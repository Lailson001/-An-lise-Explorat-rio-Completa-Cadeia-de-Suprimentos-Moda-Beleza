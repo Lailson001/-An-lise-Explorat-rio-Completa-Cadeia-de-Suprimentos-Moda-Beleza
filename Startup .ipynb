{
  "nbformat": 4,
  "nbformat_minor": 0,
  "metadata": {
    "colab": {
      "provenance": [],
      "mount_file_id": "https://github.com/Lailson001/-An-lise-Explorat-rio-Completa-Cadeia-de-Suprimentos-Moda-Beleza/blob/main/An%C3%A1lise.ipynb",
      "authorship_tag": "ABX9TyO8pyVQq9wAcqhtLNoYXJDi",
      "include_colab_link": true
    },
    "kernelspec": {
      "name": "python3",
      "display_name": "Python 3"
    },
    "language_info": {
      "name": "python"
    }
  },
  "cells": [
    {
      "cell_type": "markdown",
      "metadata": {
        "id": "view-in-github",
        "colab_type": "text"
      },
      "source": [
        "<a href=\"https://colab.research.google.com/github/Lailson001/-An-lise-Explorat-rio-Completa-Cadeia-de-Suprimentos-Moda-Beleza/blob/main/Startup%20.ipynb\" target=\"_parent\"><img src=\"https://colab.research.google.com/assets/colab-badge.svg\" alt=\"Open In Colab\"/></a>"
      ]
    },
    {
      "cell_type": "code",
      "source": [
        "import pandas as pd\n",
        "import numpy as np\n",
        "import matplotlib.pyplot as plt\n",
        "import seaborn as sns\n",
        "import plotly.express as px\n",
        "import plotly.graph_objects as go\n",
        "from plotly.subplots import make_subplots\n",
        "import warnings\n",
        "warnings.filterwarnings('ignore')\n",
        "\n",
        "#Configuração de Vizualição\n",
        "plt.style.use('seaborn-v0_8')\n",
        "sns.set_palette(\"husl\")\n",
        "plt.rcParams['figure.figsize']=(12,8)\n",
        "plt.rcParams['font.size']=12"
      ],
      "metadata": {
        "id": "1cJcEk5cUmn7"
      },
      "execution_count": 3,
      "outputs": []
    },
    {
      "cell_type": "markdown",
      "source": [
        "# Análise Exploratoria Inicial."
      ],
      "metadata": {
        "id": "M6SWUyUybcaw"
      }
    },
    {
      "cell_type": "code",
      "source": [
        "df.shape"
      ],
      "metadata": {
        "id": "zVx0IU8Kb_Ew",
        "outputId": "f814d1b0-bc9c-488f-d31f-fa48a1c5473c",
        "colab": {
          "base_uri": "https://localhost:8080/"
        }
      },
      "execution_count": 7,
      "outputs": [
        {
          "output_type": "execute_result",
          "data": {
            "text/plain": [
              "(100, 24)"
            ]
          },
          "metadata": {},
          "execution_count": 7
        }
      ]
    }
  ]
}